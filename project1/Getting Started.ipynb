{
 "cells": [
  {
   "cell_type": "code",
   "execution_count": 46,
   "metadata": {},
   "outputs": [],
   "source": [
    "import numpy as np\n",
    "import networkx as nx\n",
    "import pandas\n",
    "import matplotlib.pyplot as plt\n",
    "import itertools"
   ]
  },
  {
   "cell_type": "markdown",
   "metadata": {},
   "source": [
    "## Load data"
   ]
  },
  {
   "cell_type": "code",
   "execution_count": 2,
   "metadata": {},
   "outputs": [
    {
     "data": {
      "text/html": [
       "<div>\n",
       "<style scoped>\n",
       "    .dataframe tbody tr th:only-of-type {\n",
       "        vertical-align: middle;\n",
       "    }\n",
       "\n",
       "    .dataframe tbody tr th {\n",
       "        vertical-align: top;\n",
       "    }\n",
       "\n",
       "    .dataframe thead th {\n",
       "        text-align: right;\n",
       "    }\n",
       "</style>\n",
       "<table border=\"1\" class=\"dataframe\">\n",
       "  <thead>\n",
       "    <tr style=\"text-align: right;\">\n",
       "      <th></th>\n",
       "      <th>age</th>\n",
       "      <th>portembarked</th>\n",
       "      <th>fare</th>\n",
       "      <th>numparentschildren</th>\n",
       "      <th>passengerclass</th>\n",
       "      <th>sex</th>\n",
       "      <th>numsiblings</th>\n",
       "      <th>survived</th>\n",
       "    </tr>\n",
       "  </thead>\n",
       "  <tbody>\n",
       "    <tr>\n",
       "      <th>0</th>\n",
       "      <td>1</td>\n",
       "      <td>1</td>\n",
       "      <td>1</td>\n",
       "      <td>1</td>\n",
       "      <td>1</td>\n",
       "      <td>1</td>\n",
       "      <td>1</td>\n",
       "      <td>1</td>\n",
       "    </tr>\n",
       "    <tr>\n",
       "      <th>1</th>\n",
       "      <td>2</td>\n",
       "      <td>2</td>\n",
       "      <td>1</td>\n",
       "      <td>1</td>\n",
       "      <td>2</td>\n",
       "      <td>2</td>\n",
       "      <td>1</td>\n",
       "      <td>2</td>\n",
       "    </tr>\n",
       "    <tr>\n",
       "      <th>2</th>\n",
       "      <td>1</td>\n",
       "      <td>1</td>\n",
       "      <td>1</td>\n",
       "      <td>1</td>\n",
       "      <td>1</td>\n",
       "      <td>2</td>\n",
       "      <td>1</td>\n",
       "      <td>2</td>\n",
       "    </tr>\n",
       "    <tr>\n",
       "      <th>3</th>\n",
       "      <td>2</td>\n",
       "      <td>1</td>\n",
       "      <td>1</td>\n",
       "      <td>1</td>\n",
       "      <td>2</td>\n",
       "      <td>2</td>\n",
       "      <td>1</td>\n",
       "      <td>2</td>\n",
       "    </tr>\n",
       "    <tr>\n",
       "      <th>4</th>\n",
       "      <td>2</td>\n",
       "      <td>1</td>\n",
       "      <td>1</td>\n",
       "      <td>1</td>\n",
       "      <td>1</td>\n",
       "      <td>1</td>\n",
       "      <td>1</td>\n",
       "      <td>1</td>\n",
       "    </tr>\n",
       "  </tbody>\n",
       "</table>\n",
       "</div>"
      ],
      "text/plain": [
       "   age  portembarked  fare  numparentschildren  passengerclass  sex  \\\n",
       "0    1             1     1                   1               1    1   \n",
       "1    2             2     1                   1               2    2   \n",
       "2    1             1     1                   1               1    2   \n",
       "3    2             1     1                   1               2    2   \n",
       "4    2             1     1                   1               1    1   \n",
       "\n",
       "   numsiblings  survived  \n",
       "0            1         1  \n",
       "1            1         2  \n",
       "2            1         2  \n",
       "3            1         2  \n",
       "4            1         1  "
      ]
     },
     "execution_count": 2,
     "metadata": {},
     "output_type": "execute_result"
    }
   ],
   "source": [
    "df = pandas.read_csv(\"data/small.csv\")\n",
    "df[:5]"
   ]
  },
  {
   "cell_type": "code",
   "execution_count": 3,
   "metadata": {},
   "outputs": [
    {
     "name": "stdout",
     "output_type": "stream",
     "text": [
      "[('age', (1, 3)), ('portembarked', (1, 3)), ('fare', (1, 3)), ('numparentschildren', (1, 3)), ('passengerclass', (1, 3)), ('sex', (1, 2)), ('numsiblings', (1, 3)), ('survived', (1, 2))]\n"
     ]
    }
   ],
   "source": [
    "column_names = list(df.columns)\n",
    "data = np.array(df)\n",
    "node_info = [(column_names[i], (np.min(data[:,i]), np.max(data[:,i]))) for i in range(data.shape[1])]\n",
    "print(node_info)"
   ]
  },
  {
   "cell_type": "markdown",
   "metadata": {},
   "source": [
    "## BayesNet Datastructure"
   ]
  },
  {
   "cell_type": "code",
   "execution_count": 80,
   "metadata": {},
   "outputs": [],
   "source": [
    "class BayesNet:\n",
    "    \n",
    "    def __init__(self, adjacency_matrix, node_info):\n",
    "        self.adjacency_matrix = adjacency_matrix\n",
    "        self.G = nx.convert_matrix.from_numpy_array(self.adjacency_matrix, create_using=nx.DiGraph())\n",
    "        self.node_info = node_info\n",
    "        self.n_nodes = len(self.node_info)\n",
    "        \n",
    "        self.vals_per_node = [vals[1] for name, vals in node_info]\n",
    "        self.node_values = [np.arange(vals[0], vals[1] + 1) for name, vals in node_info]\n",
    "        self.parent_sets = [list(self.G.predecessors(i)) for i in self.G.nodes]\n",
    "        \n",
    "        n_parental_instances = [np.prod([self.vals_per_node[p] for p in parents]) for parents in self.parent_sets]\n",
    "        m_matrices = [np.zeros((int(npis), int(vals))) for npis, vals in zip(n_parental_instances, self.vals_per_node)]\n",
    "        \n",
    "        self.ms = m_matrices\n",
    "    \n",
    "    def count_ms(self, data):\n",
    "        for i in range(self.n_nodes):\n",
    "            parents = self.parent_sets[i]\n",
    "            n_parents = len(parents)\n",
    "            if n_parents > 0:\n",
    "                parental_instantiations = itertools.product(*[self.node_values[p] for p in parents])\n",
    "                for j, pi in enumerate(parental_instantiations):\n",
    "                    mask = data[:,parents[0]] == pi[0]\n",
    "                    for k in range(1,n_parents):\n",
    "                        mask = np.logical_and(mask, data[:,k] == pi[k])\n",
    "                    pi_data = data[mask,i]\n",
    "                    vals, counts = np.unique(pi_data, return_counts=True)\n",
    "                    self.update_counts(i, j, vals, counts)\n",
    "            else:\n",
    "                vals, counts = np.unique(data[:,i], return_counts=True)\n",
    "                self.update_counts(i, 0, vals, counts)\n",
    "    \n",
    "    def update_counts(self, node, pi, vals, counts):\n",
    "        for v, c in zip(vals, counts):\n",
    "            self.ms[node][pi, v - 1] += c\n",
    "    \n",
    "    @property\n",
    "    def is_dag(self):\n",
    "        return nx.is_directed_acyclic_graph(self.G)\n",
    "    \n",
    "    def draw(self):\n",
    "        nx.draw(self.G, labels={i:info[0] for i, info in enumerate(self.node_info)})\n",
    "        "
   ]
  },
  {
   "cell_type": "code",
   "execution_count": 81,
   "metadata": {},
   "outputs": [
    {
     "data": {
      "image/png": "[encoded data removed]",
      "text/plain": [
       "<matplotlib.figure.Figure at 0x2703befc128>"
      ]
     },
     "metadata": {},
     "output_type": "display_data"
    }
   ],
   "source": [
    "no_dag = True\n",
    "while no_dag:    \n",
    "    A = np.random.binomial(1, 0.1, size=[len(node_info)] * 2)\n",
    "    np.fill_diagonal(A, 0)\n",
    "    g = BayesNet(A, node_info)\n",
    "    no_dag = not g.is_dag\n",
    "g.draw()"
   ]
  },
  {
   "cell_type": "code",
   "execution_count": 82,
   "metadata": {},
   "outputs": [],
   "source": [
    "g.count_ms(data)"
   ]
  },
  {
   "cell_type": "code",
   "execution_count": 84,
   "metadata": {},
   "outputs": [
    {
     "data": {
      "text/plain": [
       "[array([[208., 276.,   7.],\n",
       "        [ 44., 140.,  30.],\n",
       "        [ 67., 105.,  12.]]),\n",
       " array([[644., 168.,  77.]]),\n",
       " array([[869.,  17.,   3.]]),\n",
       " array([[794.,  85.,  10.]]),\n",
       " array([[347., 122., 108.],\n",
       "        [144.,  92.,  76.]]),\n",
       " array([[577., 312.]]),\n",
       " array([[552.,  21.,   4.],\n",
       "        [291.,  18.,   3.]]),\n",
       " array([[372., 119.],\n",
       "        [ 80., 134.],\n",
       "        [ 97.,  87.]])]"
      ]
     },
     "execution_count": 84,
     "metadata": {},
     "output_type": "execute_result"
    }
   ],
   "source": [
    "g.ms"
   ]
  },
  {
   "cell_type": "code",
   "execution_count": null,
   "metadata": {},
   "outputs": [],
   "source": [
    "G = nx.DiGraph()\n",
    "G.add_edge(1,2)\n",
    "G.add_edge(3,4)\n",
    "G.add_edge(4,1)\n",
    "nx.draw(G, labels={i+1:str(i + 1) for i in range(4)})"
   ]
  },
  {
   "cell_type": "code",
   "execution_count": 46,
   "metadata": {},
   "outputs": [],
   "source": [
    "A = nx.to_numpy_array(G)"
   ]
  },
  {
   "cell_type": "code",
   "execution_count": 68,
   "metadata": {},
   "outputs": [
    {
     "data": {
      "text/plain": [
       "[4]"
      ]
     },
     "execution_count": 68,
     "metadata": {},
     "output_type": "execute_result"
    }
   ],
   "source": [
    "parents = [G.predecessors(node) for node in G.nodes]\n"
   ]
  },
  {
   "cell_type": "code",
   "execution_count": 42,
   "metadata": {},
   "outputs": [],
   "source": [
    "X = np.zeros((3,3))\n",
    "X[1,0] = 1\n",
    "X[1,1] = 1\n",
    "X[1,2] = 1\n",
    "X[0,0] = 1\n",
    "X[0,1] = 1"
   ]
  },
  {
   "cell_type": "code",
   "execution_count": 44,
   "metadata": {},
   "outputs": [
    {
     "data": {
      "text/plain": [
       "array([0., 1.])"
      ]
     },
     "execution_count": 44,
     "metadata": {},
     "output_type": "execute_result"
    }
   ],
   "source": [
    "mask = np.logical_and(X[:,0] == 1, X[:,1] == 1)\n",
    "X[mask,-1]"
   ]
  },
  {
   "cell_type": "code",
   "execution_count": 38,
   "metadata": {},
   "outputs": [
    {
     "ename": "IndexError",
     "evalue": "boolean index did not match indexed array along dimension 0; dimension is 8 but corresponding boolean dimension is 3",
     "output_type": "error",
     "traceback": [
      "\u001b[1;31m---------------------------------------------------------------------------\u001b[0m",
      "\u001b[1;31mIndexError\u001b[0m                                Traceback (most recent call last)",
      "\u001b[1;32m<ipython-input-38-6769e58b5baa>\u001b[0m in \u001b[0;36m<module>\u001b[1;34m()\u001b[0m\n\u001b[1;32m----> 1\u001b[1;33m \u001b[0mA\u001b[0m\u001b[1;33m[\u001b[0m\u001b[0mmask\u001b[0m\u001b[1;33m]\u001b[0m\u001b[1;33m\u001b[0m\u001b[0m\n\u001b[0m",
      "\u001b[1;31mIndexError\u001b[0m: boolean index did not match indexed array along dimension 0; dimension is 8 but corresponding boolean dimension is 3"
     ]
    }
   ],
   "source": [
    "A[mask]"
   ]
  },
  {
   "cell_type": "code",
   "execution_count": 49,
   "metadata": {},
   "outputs": [],
   "source": [
    "for j in itertools.product((), ()):\n",
    "    print(\"hi\")"
   ]
  },
  {
   "cell_type": "code",
   "execution_count": 51,
   "metadata": {},
   "outputs": [
    {
     "data": {
      "text/plain": [
       "(array([1, 2, 3, 4, 6, 7]), array([2, 1, 3, 1, 1, 1], dtype=int64))"
      ]
     },
     "execution_count": 51,
     "metadata": {},
     "output_type": "execute_result"
    }
   ],
   "source": [
    "a = np.array([1,1,2,3,4,6,7,3,3])\n",
    "np.unique(a, return_counts=True)"
   ]
  },
  {
   "cell_type": "code",
   "execution_count": null,
   "metadata": {},
   "outputs": [],
   "source": []
  }
 ],
 "metadata": {
  "kernelspec": {
   "display_name": "Python 3",
   "language": "python",
   "name": "python3"
  },
  "language_info": {
   "codemirror_mode": {
    "name": "ipython",
    "version": 3
   },
   "file_extension": ".py",
   "mimetype": "text/x-python",
   "name": "python",
   "nbconvert_exporter": "python",
   "pygments_lexer": "ipython3",
   "version": "3.6.4"
  }
 },
 "nbformat": 4,
 "nbformat_minor": 2
}
