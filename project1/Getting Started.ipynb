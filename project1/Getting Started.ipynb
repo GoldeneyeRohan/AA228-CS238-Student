{
 "cells": [
  {
   "cell_type": "code",
   "execution_count": 24,
   "metadata": {},
   "outputs": [],
   "source": [
    "import numpy as np\n",
    "import networkx as nx\n",
    "import pandas\n",
    "import matplotlib.pyplot as plt\n",
    "import itertools\n",
    "import scipy\n",
    "import tqdm\n",
    "import copy"
   ]
  },
  {
   "cell_type": "markdown",
   "metadata": {},
   "source": [
    "## Load data"
   ]
  },
  {
   "cell_type": "code",
   "execution_count": 25,
   "metadata": {},
   "outputs": [
    {
     "data": {
      "text/html": [
       "<div>\n",
       "<style scoped>\n",
       "    .dataframe tbody tr th:only-of-type {\n",
       "        vertical-align: middle;\n",
       "    }\n",
       "\n",
       "    .dataframe tbody tr th {\n",
       "        vertical-align: top;\n",
       "    }\n",
       "\n",
       "    .dataframe thead th {\n",
       "        text-align: right;\n",
       "    }\n",
       "</style>\n",
       "<table border=\"1\" class=\"dataframe\">\n",
       "  <thead>\n",
       "    <tr style=\"text-align: right;\">\n",
       "      <th></th>\n",
       "      <th>age</th>\n",
       "      <th>portembarked</th>\n",
       "      <th>fare</th>\n",
       "      <th>numparentschildren</th>\n",
       "      <th>passengerclass</th>\n",
       "      <th>sex</th>\n",
       "      <th>numsiblings</th>\n",
       "      <th>survived</th>\n",
       "    </tr>\n",
       "  </thead>\n",
       "  <tbody>\n",
       "    <tr>\n",
       "      <th>0</th>\n",
       "      <td>1</td>\n",
       "      <td>1</td>\n",
       "      <td>1</td>\n",
       "      <td>1</td>\n",
       "      <td>1</td>\n",
       "      <td>1</td>\n",
       "      <td>1</td>\n",
       "      <td>1</td>\n",
       "    </tr>\n",
       "    <tr>\n",
       "      <th>1</th>\n",
       "      <td>2</td>\n",
       "      <td>2</td>\n",
       "      <td>1</td>\n",
       "      <td>1</td>\n",
       "      <td>2</td>\n",
       "      <td>2</td>\n",
       "      <td>1</td>\n",
       "      <td>2</td>\n",
       "    </tr>\n",
       "    <tr>\n",
       "      <th>2</th>\n",
       "      <td>1</td>\n",
       "      <td>1</td>\n",
       "      <td>1</td>\n",
       "      <td>1</td>\n",
       "      <td>1</td>\n",
       "      <td>2</td>\n",
       "      <td>1</td>\n",
       "      <td>2</td>\n",
       "    </tr>\n",
       "    <tr>\n",
       "      <th>3</th>\n",
       "      <td>2</td>\n",
       "      <td>1</td>\n",
       "      <td>1</td>\n",
       "      <td>1</td>\n",
       "      <td>2</td>\n",
       "      <td>2</td>\n",
       "      <td>1</td>\n",
       "      <td>2</td>\n",
       "    </tr>\n",
       "    <tr>\n",
       "      <th>4</th>\n",
       "      <td>2</td>\n",
       "      <td>1</td>\n",
       "      <td>1</td>\n",
       "      <td>1</td>\n",
       "      <td>1</td>\n",
       "      <td>1</td>\n",
       "      <td>1</td>\n",
       "      <td>1</td>\n",
       "    </tr>\n",
       "  </tbody>\n",
       "</table>\n",
       "</div>"
      ],
      "text/plain": [
       "   age  portembarked  fare  numparentschildren  passengerclass  sex  \\\n",
       "0    1             1     1                   1               1    1   \n",
       "1    2             2     1                   1               2    2   \n",
       "2    1             1     1                   1               1    2   \n",
       "3    2             1     1                   1               2    2   \n",
       "4    2             1     1                   1               1    1   \n",
       "\n",
       "   numsiblings  survived  \n",
       "0            1         1  \n",
       "1            1         2  \n",
       "2            1         2  \n",
       "3            1         2  \n",
       "4            1         1  "
      ]
     },
     "execution_count": 25,
     "metadata": {},
     "output_type": "execute_result"
    }
   ],
   "source": [
    "dataset = \"small\"\n",
    "datadir = \"data/\"\n",
    "df = pandas.read_csv(datadir + dataset+\".csv\")\n",
    "df[:5]"
   ]
  },
  {
   "cell_type": "code",
   "execution_count": 26,
   "metadata": {},
   "outputs": [
    {
     "name": "stdout",
     "output_type": "stream",
     "text": [
      "[('age', (1, 3)), ('portembarked', (1, 3)), ('fare', (1, 3)), ('numparentschildren', (1, 3)), ('passengerclass', (1, 3)), ('sex', (1, 2)), ('numsiblings', (1, 3)), ('survived', (1, 2))]\n",
      "8\n"
     ]
    }
   ],
   "source": [
    "column_names = list(df.columns)\n",
    "data = np.array(df)\n",
    "node_info = [(column_names[i], (np.min(data[:,i]), np.max(data[:,i]))) for i in range(data.shape[1])]\n",
    "print(node_info)\n",
    "print(len(node_info))"
   ]
  },
  {
   "cell_type": "markdown",
   "metadata": {},
   "source": [
    "## BayesNet Datastructure"
   ]
  },
  {
   "cell_type": "code",
   "execution_count": 31,
   "metadata": {},
   "outputs": [],
   "source": [
    "class BayesNet:\n",
    "    \n",
    "    def __init__(self, graph, node_info, adjacency_matrix=None):\n",
    "        if adjacency_matrix is not None:\n",
    "            self.adjacency_matrix = adjacency_matrix\n",
    "            self.G = nx.convert_matrix.from_numpy_array(self.adjacency_matrix, create_using=nx.DiGraph())\n",
    "        else:\n",
    "            self.G = graph\n",
    "        \n",
    "        if self.is_dag:\n",
    "            self.node_info = node_info\n",
    "            self.node_names = [info[0] for info in self.node_info]\n",
    "            self.n_nodes = len(self.node_info)\n",
    "\n",
    "            self.vals_per_node = [vals[1] for name, vals in node_info]\n",
    "            self.node_values = [np.arange(vals[0], vals[1] + 1) for name, vals in node_info]\n",
    "            self.parent_sets = [list(self.G.predecessors(i)) for i in self.G.nodes]\n",
    "\n",
    "            n_parental_instances = [np.prod([self.vals_per_node[p] for p in parents]) for parents in self.parent_sets]\n",
    "            m_matrices = [np.zeros((int(npis), int(vals))) for npis, vals in zip(n_parental_instances, self.vals_per_node)]\n",
    "\n",
    "            self.ms = m_matrices\n",
    "    \n",
    "    def count_ms(self, data):\n",
    "        for i in range(self.n_nodes):\n",
    "            parents = self.parent_sets[i]\n",
    "            n_parents = len(parents)\n",
    "            if n_parents > 0:\n",
    "#                 parental_instantiations = itertools.product(*[self.node_values[p] for p in parents])\n",
    "#                 print(\"hi\")\n",
    "#                 for j,pi in enumerate(parental_instantiations):\n",
    "#                     for d in data:\n",
    "#                         if np.all([d[pp] == pip for pp, pip in zip(parents, pi)]):\n",
    "#                             self.ms[i][j, d[i] - 1] += 1\n",
    "#                 import pdb;\n",
    "#                 pdb.set_trace()\n",
    "                parental_instantiations = itertools.product(*[self.node_values[p] for p in parents])\n",
    "                for j, pi in enumerate(parental_instantiations):\n",
    "                    mask = data[:,parents[0]] == pi[0]\n",
    "                    for k in range(1,n_parents):\n",
    "                        mask = np.logical_and(mask, data[:,parents[k]] == pi[k])\n",
    "                    pi_data = data[mask,i]\n",
    "                    vals, counts = np.unique(pi_data, return_counts=True)\n",
    "                    self.update_counts(i, j, vals, counts)\n",
    "            else:\n",
    "                vals, counts = np.unique(data[:,i], return_counts=True)\n",
    "                self.update_counts(i, 0, vals, counts)\n",
    "    \n",
    "    def update_counts(self, node, pi, vals, counts):\n",
    "        for v, c in zip(vals, counts):\n",
    "            self.ms[node][pi, v - 1] += c\n",
    "    \n",
    "    @property\n",
    "    def is_dag(self):\n",
    "        return nx.is_directed_acyclic_graph(self.G)\n",
    "    \n",
    "    def draw(self):\n",
    "        nx.draw(self.G, labels={i:info[0] for i, info in enumerate(self.node_info)})\n",
    "        \n",
    "    def save(self, filename):\n",
    "        with open(filename, 'w') as f:\n",
    "            for edge in self.G.edges():\n",
    "                f.write(\"{}, {}\\n\".format(self.node_names[edge[0]], self.node_names[edge[1]]))\n",
    "        "
   ]
  },
  {
   "cell_type": "code",
   "execution_count": 32,
   "metadata": {},
   "outputs": [],
   "source": [
    "def get_dag(p):\n",
    "    no_dag = True\n",
    "    while no_dag:    \n",
    "        A = np.random.binomial(1, p, size=[len(node_info)] * 2)\n",
    "        np.fill_diagonal(A, 0)\n",
    "        g = BayesNet(None, node_info, adjacency_matrix=A)\n",
    "        no_dag = not g.is_dag\n",
    "    return g"
   ]
  },
  {
   "cell_type": "code",
   "execution_count": 33,
   "metadata": {},
   "outputs": [
    {
     "name": "stderr",
     "output_type": "stream",
     "text": [
      "100%|█████████████████████████████████████████████████████████████████████████████████| 20/20 [00:00<00:00, 134.57it/s]\n"
     ]
    },
    {
     "data": {
      "image/png": "[encoded data removed]",
      "text/plain": [
       "<matplotlib.figure.Figure at 0x2332537a1d0>"
      ]
     },
     "metadata": {},
     "output_type": "display_data"
    }
   ],
   "source": [
    "n_dags = 20\n",
    "p = 0.3\n",
    "dags = [get_dag(p) for _ in tqdm.tqdm(range(n_dags))]\n",
    "g = dags[0]\n",
    "g.draw()"
   ]
  },
  {
   "cell_type": "code",
   "execution_count": 34,
   "metadata": {},
   "outputs": [],
   "source": [
    "for g in dags:\n",
    "    g.count_ms(data)"
   ]
  },
  {
   "cell_type": "code",
   "execution_count": 35,
   "metadata": {},
   "outputs": [
    {
     "data": {
      "text/plain": [
       "0.0"
      ]
     },
     "execution_count": 35,
     "metadata": {},
     "output_type": "execute_result"
    }
   ],
   "source": [
    "scipy.special.loggamma(1)"
   ]
  },
  {
   "cell_type": "markdown",
   "metadata": {},
   "source": [
    "## Compute Bayesian Score"
   ]
  },
  {
   "cell_type": "code",
   "execution_count": 36,
   "metadata": {},
   "outputs": [],
   "source": [
    "def bay_score_node(m):\n",
    "    p = np.sum(scipy.special.loggamma(m + 1))\n",
    "    p += m.shape[0] * scipy.special.loggamma(m.shape[1])\n",
    "    p -= np.sum(scipy.special.loggamma(m.shape[1] + np.sum(m, axis=1)))\n",
    "    return p\n",
    "    \n",
    "def compute_bayesian_score(g):\n",
    "    return np.sum([bay_score_node(m) for m in g.ms])"
   ]
  },
  {
   "cell_type": "code",
   "execution_count": 37,
   "metadata": {},
   "outputs": [],
   "source": [
    "scores = [compute_bayesian_score(g) for g in dags]"
   ]
  },
  {
   "cell_type": "code",
   "execution_count": 38,
   "metadata": {},
   "outputs": [],
   "source": [
    "gmin = dags[np.argmin(scores)]\n",
    "gmax = dags[np.argmax(scores)]"
   ]
  },
  {
   "cell_type": "code",
   "execution_count": 39,
   "metadata": {},
   "outputs": [
    {
     "data": {
      "image/png": "[encoded data removed]",
      "text/plain": [
       "<matplotlib.figure.Figure at 0x2332593f240>"
      ]
     },
     "metadata": {},
     "output_type": "display_data"
    }
   ],
   "source": [
    "gmin.draw()"
   ]
  },
  {
   "cell_type": "code",
   "execution_count": 40,
   "metadata": {},
   "outputs": [
    {
     "data": {
      "image/png": "[encoded data removed]",
      "text/plain": [
       "<matplotlib.figure.Figure at 0x233259ad8d0>"
      ]
     },
     "metadata": {},
     "output_type": "display_data"
    }
   ],
   "source": [
    "gmax.draw()"
   ]
  },
  {
   "cell_type": "markdown",
   "metadata": {},
   "source": [
    "## Random Search"
   ]
  },
  {
   "cell_type": "code",
   "execution_count": 41,
   "metadata": {},
   "outputs": [],
   "source": [
    "hyperparams = {\"p_add\":.8, \"max_parents\":6}\n",
    "\n",
    "def num_parents(g, n):\n",
    "    parents = list(g.predecessors(n))\n",
    "    return len(parents)\n",
    "\n",
    "def generate_neighbor(g):\n",
    "#     print(\"hi\")\n",
    "    graph = copy.deepcopy(g.G)\n",
    "    add_edge = np.random.binomial(1,hyperparams[\"p_add\"])\n",
    "    modified = False\n",
    "    if add_edge or len(graph.edges) == 0:\n",
    "        edges = list(nx.non_edges(graph))\n",
    "        np.random.shuffle(edges)\n",
    "        for edge in edges:\n",
    "#             print(edge)\n",
    "            if not nx.has_path(graph, edge[1], edge[0]) and num_parents(graph, edge[1]) < hyperparams[\"max_parents\"]:\n",
    "                graph.add_edge(*edge)\n",
    "                net = BayesNet(graph, node_info)\n",
    "                net.count_ms(data)\n",
    "#                 print(net.is_dag)\n",
    "                modified = True\n",
    "                break\n",
    "    if not add_edge or not modified:\n",
    "        edges = list(nx.edges(graph))\n",
    "        l = len(edges)\n",
    "        edge = edges[np.random.randint(l)]\n",
    "        graph.remove_edge(*edge)\n",
    "        net = BayesNet(graph, node_info)\n",
    "        net.count_ms(data)\n",
    "#     print(len(net.G.edges))\n",
    "    return net"
   ]
  },
  {
   "cell_type": "code",
   "execution_count": 42,
   "metadata": {},
   "outputs": [],
   "source": [
    "def simulated_annealing(initial_candidate, T=1000, epochs=1):\n",
    "    best_solution = initial_candidate\n",
    "    best_solution_cost = compute_bayesian_score(initial_candidate)\n",
    "    \n",
    "    costs = [best_solution_cost]\n",
    "    # the best solution we had so far\n",
    "    \n",
    "    all_time_best_solution = initial_candidate\n",
    "    all_time_best_cost = best_solution_cost\n",
    "    \n",
    "    while (T > 0):\n",
    "        print(T)\n",
    "        for epoch in range(epochs):\n",
    "            candidate = generate_neighbor(best_solution)\n",
    "            candidate_cost = compute_bayesian_score(candidate)\n",
    "            cost_change = candidate_cost - best_solution_cost  # we want to accept higher cost\n",
    "            if (cost_change > 0):\n",
    "                # move to candidate state\n",
    "                best_solution = candidate\n",
    "                best_solution_cost = candidate_cost\n",
    "                costs.append(best_solution_cost)\n",
    "            elif (np.e ** (cost_change / T) > np.random.uniform()):\n",
    "                # move to candidate state\n",
    "                best_solution = candidate\n",
    "                best_solution_cost = candidate_cost\n",
    "                costs.append(best_solution_cost)\n",
    "            if all_time_best_cost < candidate_cost:\n",
    "                all_time_best_solution = candidate\n",
    "                all_time_best_cost = candidate_cost\n",
    "        T -= 1\n",
    "    return all_time_best_solution, all_time_best_cost, costs\n"
   ]
  },
  {
   "cell_type": "markdown",
   "metadata": {},
   "source": [
    "## Run simulated annealing"
   ]
  },
  {
   "cell_type": "code",
   "execution_count": 43,
   "metadata": {},
   "outputs": [
    {
     "name": "stdout",
     "output_type": "stream",
     "text": [
      "10\n",
      "9\n",
      "8\n",
      "7\n",
      "6\n",
      "5\n",
      "4\n",
      "3\n",
      "2\n",
      "1\n"
     ]
    }
   ],
   "source": [
    "best_solution, best_cost, costs = simulated_annealing(gmax, T=10, epochs=2)"
   ]
  },
  {
   "cell_type": "code",
   "execution_count": 44,
   "metadata": {},
   "outputs": [
    {
     "name": "stdout",
     "output_type": "stream",
     "text": [
      "-3893.535380453982\n"
     ]
    },
    {
     "data": {
      "image/png": "[encoded data removed]",
      "text/plain": [
       "<matplotlib.figure.Figure at 0x23325a26dd8>"
      ]
     },
     "metadata": {},
     "output_type": "display_data"
    }
   ],
   "source": [
    "plt.plot(costs)\n",
    "print(best_cost)"
   ]
  },
  {
   "cell_type": "code",
   "execution_count": 45,
   "metadata": {},
   "outputs": [
    {
     "name": "stdout",
     "output_type": "stream",
     "text": [
      "True\n"
     ]
    },
    {
     "data": {
      "text/plain": [
       "-3893.535380453982"
      ]
     },
     "execution_count": 45,
     "metadata": {},
     "output_type": "execute_result"
    },
    {
     "data": {
      "image/png": "[encoded data removed]",
      "text/plain": [
       "<matplotlib.figure.Figure at 0x23325a1f7f0>"
      ]
     },
     "metadata": {},
     "output_type": "display_data"
    }
   ],
   "source": [
    "best_solution.draw()\n",
    "print(best_solution.is_dag)\n",
    "compute_bayesian_score(best_solution)"
   ]
  },
  {
   "cell_type": "markdown",
   "metadata": {},
   "source": [
    "## Store results"
   ]
  },
  {
   "cell_type": "code",
   "execution_count": 46,
   "metadata": {},
   "outputs": [],
   "source": [
    "outdir = \"test_outputs3/\"\n",
    "best_solution.save(outdir + dataset + \".gph\")"
   ]
  },
  {
   "cell_type": "code",
   "execution_count": 64,
   "metadata": {},
   "outputs": [
    {
     "name": "stdout",
     "output_type": "stream",
     "text": [
      "[[3, 4, 7], [0, 7, 4, 2], [], [4, 2], [2], [2, 4, 7, 3, 6], [0, 2, 7, 3], [2, 4, 3]]\n",
      "\n",
      "[array([1, 2, 3], dtype=int64), array([1, 2, 3], dtype=int64), array([1, 2, 3], dtype=int64), array([1, 2, 3], dtype=int64), array([1, 2, 3], dtype=int64), array([1, 2], dtype=int64), array([1, 2, 3], dtype=int64), array([1, 2], dtype=int64)]\n"
     ]
    }
   ],
   "source": [
    "print(best_solution.parent_sets)\n",
    "print(\"\")\n",
    "print(best_solution.node_values)"
   ]
  },
  {
   "cell_type": "code",
   "execution_count": 37,
   "metadata": {},
   "outputs": [],
   "source": [
    "node = 1\n",
    "best_solution.ms[1].shape\n",
    "pis = itertools.product(best_solution.node_values[0], best_solution.node_values[6])\n",
    "m = np.zeros((9,3))\n",
    "for j,pi in enumerate(pis):\n",
    "    for d in data:\n",
    "        if d[0] == pi[0] and d[6] == pi[1]:\n",
    "            m[j, d[1] - 1] += 1"
   ]
  },
  {
   "cell_type": "code",
   "execution_count": 41,
   "metadata": {},
   "outputs": [
    {
     "data": {
      "text/plain": [
       "889.0"
      ]
     },
     "execution_count": 41,
     "metadata": {},
     "output_type": "execute_result"
    }
   ],
   "source": [
    "np.sum(m)"
   ]
  },
  {
   "cell_type": "code",
   "execution_count": 40,
   "metadata": {},
   "outputs": [
    {
     "data": {
      "text/plain": [
       "889.0"
      ]
     },
     "execution_count": 40,
     "metadata": {},
     "output_type": "execute_result"
    }
   ],
   "source": [
    "np.sum(best_solution.ms[1])"
   ]
  },
  {
   "cell_type": "code",
   "execution_count": null,
   "metadata": {},
   "outputs": [],
   "source": []
  },
  {
   "cell_type": "code",
   "execution_count": null,
   "metadata": {},
   "outputs": [],
   "source": []
  },
  {
   "cell_type": "code",
   "execution_count": null,
   "metadata": {},
   "outputs": [],
   "source": []
  },
  {
   "cell_type": "code",
   "execution_count": null,
   "metadata": {},
   "outputs": [],
   "source": []
  },
  {
   "cell_type": "code",
   "execution_count": null,
   "metadata": {},
   "outputs": [],
   "source": []
  },
  {
   "cell_type": "code",
   "execution_count": null,
   "metadata": {},
   "outputs": [],
   "source": []
  },
  {
   "cell_type": "code",
   "execution_count": null,
   "metadata": {},
   "outputs": [],
   "source": []
  },
  {
   "cell_type": "code",
   "execution_count": null,
   "metadata": {},
   "outputs": [],
   "source": [
    "G = nx.DiGraph()\n",
    "G.add_edge(1,2)\n",
    "G.add_edge(3,4)\n",
    "G.add_edge(4,1)\n",
    "nx.draw(G, labels={i+1:str(i + 1) for i in range(4)})"
   ]
  },
  {
   "cell_type": "code",
   "execution_count": 46,
   "metadata": {},
   "outputs": [],
   "source": [
    "A = nx.to_numpy_array(G)"
   ]
  },
  {
   "cell_type": "code",
   "execution_count": 68,
   "metadata": {},
   "outputs": [
    {
     "data": {
      "text/plain": [
       "[4]"
      ]
     },
     "execution_count": 68,
     "metadata": {},
     "output_type": "execute_result"
    }
   ],
   "source": [
    "parents = [G.predecessors(node) for node in G.nodes]\n"
   ]
  },
  {
   "cell_type": "code",
   "execution_count": 42,
   "metadata": {},
   "outputs": [],
   "source": [
    "X = np.zeros((3,3))\n",
    "X[1,0] = 1\n",
    "X[1,1] = 1\n",
    "X[1,2] = 1\n",
    "X[0,0] = 1\n",
    "X[0,1] = 1"
   ]
  },
  {
   "cell_type": "code",
   "execution_count": 44,
   "metadata": {},
   "outputs": [
    {
     "data": {
      "text/plain": [
       "array([0., 1.])"
      ]
     },
     "execution_count": 44,
     "metadata": {},
     "output_type": "execute_result"
    }
   ],
   "source": [
    "mask = np.logical_and(X[:,0] == 1, X[:,1] == 1)\n",
    "X[mask,-1]"
   ]
  },
  {
   "cell_type": "code",
   "execution_count": 38,
   "metadata": {},
   "outputs": [
    {
     "ename": "IndexError",
     "evalue": "boolean index did not match indexed array along dimension 0; dimension is 8 but corresponding boolean dimension is 3",
     "output_type": "error",
     "traceback": [
      "\u001b[1;31m---------------------------------------------------------------------------\u001b[0m",
      "\u001b[1;31mIndexError\u001b[0m                                Traceback (most recent call last)",
      "\u001b[1;32m<ipython-input-38-6769e58b5baa>\u001b[0m in \u001b[0;36m<module>\u001b[1;34m()\u001b[0m\n\u001b[1;32m----> 1\u001b[1;33m \u001b[0mA\u001b[0m\u001b[1;33m[\u001b[0m\u001b[0mmask\u001b[0m\u001b[1;33m]\u001b[0m\u001b[1;33m\u001b[0m\u001b[0m\n\u001b[0m",
      "\u001b[1;31mIndexError\u001b[0m: boolean index did not match indexed array along dimension 0; dimension is 8 but corresponding boolean dimension is 3"
     ]
    }
   ],
   "source": [
    "A[mask]"
   ]
  },
  {
   "cell_type": "code",
   "execution_count": 49,
   "metadata": {},
   "outputs": [],
   "source": [
    "for j in itertools.product((), ()):\n",
    "    print(\"hi\")"
   ]
  },
  {
   "cell_type": "code",
   "execution_count": 51,
   "metadata": {},
   "outputs": [
    {
     "data": {
      "text/plain": [
       "(array([1, 2, 3, 4, 6, 7]), array([2, 1, 3, 1, 1, 1], dtype=int64))"
      ]
     },
     "execution_count": 51,
     "metadata": {},
     "output_type": "execute_result"
    }
   ],
   "source": [
    "a = np.array([1,1,2,3,4,6,7,3,3])\n",
    "np.unique(a, return_counts=True)"
   ]
  },
  {
   "cell_type": "code",
   "execution_count": 90,
   "metadata": {},
   "outputs": [
    {
     "data": {
      "text/plain": [
       "-4166.225858784904"
      ]
     },
     "execution_count": 90,
     "metadata": {},
     "output_type": "execute_result"
    }
   ],
   "source": [
    "A = np.zeros((8,8))\n",
    "# A[0,1] = 1\n",
    "# A[2,3] = 1\n",
    "# A[4,5] = 1\n",
    "g = BayesNet(A, node_info)\n",
    "g.count_ms(data)\n",
    "compute_bayesian_score(g.ms)"
   ]
  },
  {
   "cell_type": "code",
   "execution_count": 83,
   "metadata": {},
   "outputs": [
    {
     "data": {
      "text/plain": [
       "[array([[0., 0., 0.]]), array([[0., 0., 0.],\n",
       "        [0., 0., 0.],\n",
       "        [0., 0., 0.]]), array([[0., 0., 0.]]), array([[0., 0., 0.],\n",
       "        [0., 0., 0.],\n",
       "        [0., 0., 0.]]), array([[0., 0., 0.]]), array([[0., 0., 0.],\n",
       "        [0., 0., 0.],\n",
       "        [0., 0., 0.]])]"
      ]
     },
     "execution_count": 83,
     "metadata": {},
     "output_type": "execute_result"
    }
   ],
   "source": [
    "g.ms"
   ]
  },
  {
   "cell_type": "code",
   "execution_count": 84,
   "metadata": {},
   "outputs": [
    {
     "data": {
      "text/plain": [
       "[[], [0], [], [2], [], [4]]"
      ]
     },
     "execution_count": 84,
     "metadata": {},
     "output_type": "execute_result"
    }
   ],
   "source": [
    "g.parent_sets"
   ]
  },
  {
   "cell_type": "code",
   "execution_count": 92,
   "metadata": {},
   "outputs": [
    {
     "data": {
      "text/plain": [
       "array([[0., 0., 0., 0., 0., 0., 0., 0.],\n",
       "       [0., 0., 0., 0., 0., 0., 0., 0.],\n",
       "       [0., 0., 0., 0., 0., 0., 0., 0.],\n",
       "       [0., 0., 0., 0., 0., 0., 0., 0.],\n",
       "       [0., 0., 0., 0., 0., 0., 0., 0.],\n",
       "       [0., 0., 0., 0., 0., 0., 0., 0.],\n",
       "       [0., 0., 0., 0., 0., 0., 0., 0.],\n",
       "       [0., 0., 0., 0., 0., 0., 0., 0.]])"
      ]
     },
     "execution_count": 92,
     "metadata": {},
     "output_type": "execute_result"
    }
   ],
   "source": [
    "nx.convert_matrix.to_numpy_array(g.G)"
   ]
  },
  {
   "cell_type": "code",
   "execution_count": 30,
   "metadata": {},
   "outputs": [],
   "source": [
    "np.random.shuffle(list(g.G.edges))"
   ]
  },
  {
   "cell_type": "code",
   "execution_count": 28,
   "metadata": {},
   "outputs": [
    {
     "data": {
      "text/plain": [
       "OutEdgeView([(0, 1), (0, 2), (0, 7), (1, 3), (3, 5), (3, 6), (4, 2), (4, 7), (5, 2), (6, 5), (7, 6)])"
      ]
     },
     "execution_count": 28,
     "metadata": {},
     "output_type": "execute_result"
    }
   ],
   "source": []
  },
  {
   "cell_type": "code",
   "execution_count": 49,
   "metadata": {},
   "outputs": [
    {
     "data": {
      "text/plain": [
       "0.107"
      ]
     },
     "execution_count": 49,
     "metadata": {},
     "output_type": "execute_result"
    }
   ],
   "source": [
    "vals = np.random.binomial(1,.1, size = 1000)\n",
    "np.mean(vals)"
   ]
  },
  {
   "cell_type": "code",
   "execution_count": 82,
   "metadata": {},
   "outputs": [
    {
     "data": {
      "text/plain": [
       "OutEdgeView([(0, 4), (0, 7), (2, 3), (5, 4), (5, 6), (5, 7), (6, 1), (6, 2), (7, 1), (7, 2)])"
      ]
     },
     "execution_count": 82,
     "metadata": {},
     "output_type": "execute_result"
    }
   ],
   "source": [
    "gmax.G.edges"
   ]
  },
  {
   "cell_type": "code",
   "execution_count": null,
   "metadata": {},
   "outputs": [],
   "source": []
  }
 ],
 "metadata": {
  "kernelspec": {
   "display_name": "Python 3",
   "language": "python",
   "name": "python3"
  },
  "language_info": {
   "codemirror_mode": {
    "name": "ipython",
    "version": 3
   },
   "file_extension": ".py",
   "mimetype": "text/x-python",
   "name": "python",
   "nbconvert_exporter": "python",
   "pygments_lexer": "ipython3",
   "version": "3.6.4"
  }
 },
 "nbformat": 4,
 "nbformat_minor": 2
}
