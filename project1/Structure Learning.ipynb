{
 "cells": [
  {
   "cell_type": "code",
   "execution_count": 19,
   "metadata": {},
   "outputs": [],
   "source": [
    "import numpy as np\n",
    "import networkx as nx\n",
    "import pandas\n",
    "import matplotlib.pyplot as plt\n",
    "import itertools\n",
    "import scipy\n",
    "import tqdm\n",
    "import copy\n",
    "import datetime"
   ]
  },
  {
   "cell_type": "markdown",
   "metadata": {},
   "source": [
    "## Load data"
   ]
  },
  {
   "cell_type": "code",
   "execution_count": 42,
   "metadata": {},
   "outputs": [
    {
     "data": {
      "text/html": [
       "<div>\n",
       "<style scoped>\n",
       "    .dataframe tbody tr th:only-of-type {\n",
       "        vertical-align: middle;\n",
       "    }\n",
       "\n",
       "    .dataframe tbody tr th {\n",
       "        vertical-align: top;\n",
       "    }\n",
       "\n",
       "    .dataframe thead th {\n",
       "        text-align: right;\n",
       "    }\n",
       "</style>\n",
       "<table border=\"1\" class=\"dataframe\">\n",
       "  <thead>\n",
       "    <tr style=\"text-align: right;\">\n",
       "      <th></th>\n",
       "      <th>N1</th>\n",
       "      <th>N2</th>\n",
       "      <th>N3</th>\n",
       "      <th>N4</th>\n",
       "      <th>N48</th>\n",
       "      <th>N6</th>\n",
       "      <th>N7</th>\n",
       "      <th>N14</th>\n",
       "      <th>N15</th>\n",
       "      <th>N17</th>\n",
       "      <th>...</th>\n",
       "      <th>N20</th>\n",
       "      <th>N22</th>\n",
       "      <th>N23</th>\n",
       "      <th>N30</th>\n",
       "      <th>N38</th>\n",
       "      <th>N26</th>\n",
       "      <th>N28</th>\n",
       "      <th>N50</th>\n",
       "      <th>N25</th>\n",
       "      <th>N35</th>\n",
       "    </tr>\n",
       "  </thead>\n",
       "  <tbody>\n",
       "    <tr>\n",
       "      <th>0</th>\n",
       "      <td>2</td>\n",
       "      <td>1</td>\n",
       "      <td>1</td>\n",
       "      <td>1</td>\n",
       "      <td>1</td>\n",
       "      <td>2</td>\n",
       "      <td>2</td>\n",
       "      <td>1</td>\n",
       "      <td>1</td>\n",
       "      <td>4</td>\n",
       "      <td>...</td>\n",
       "      <td>2</td>\n",
       "      <td>1</td>\n",
       "      <td>1</td>\n",
       "      <td>2</td>\n",
       "      <td>1</td>\n",
       "      <td>2</td>\n",
       "      <td>3</td>\n",
       "      <td>1</td>\n",
       "      <td>1</td>\n",
       "      <td>2</td>\n",
       "    </tr>\n",
       "    <tr>\n",
       "      <th>1</th>\n",
       "      <td>3</td>\n",
       "      <td>2</td>\n",
       "      <td>2</td>\n",
       "      <td>1</td>\n",
       "      <td>2</td>\n",
       "      <td>3</td>\n",
       "      <td>3</td>\n",
       "      <td>1</td>\n",
       "      <td>1</td>\n",
       "      <td>1</td>\n",
       "      <td>...</td>\n",
       "      <td>2</td>\n",
       "      <td>2</td>\n",
       "      <td>2</td>\n",
       "      <td>1</td>\n",
       "      <td>1</td>\n",
       "      <td>2</td>\n",
       "      <td>2</td>\n",
       "      <td>2</td>\n",
       "      <td>3</td>\n",
       "      <td>1</td>\n",
       "    </tr>\n",
       "    <tr>\n",
       "      <th>2</th>\n",
       "      <td>2</td>\n",
       "      <td>2</td>\n",
       "      <td>1</td>\n",
       "      <td>1</td>\n",
       "      <td>2</td>\n",
       "      <td>3</td>\n",
       "      <td>1</td>\n",
       "      <td>1</td>\n",
       "      <td>2</td>\n",
       "      <td>4</td>\n",
       "      <td>...</td>\n",
       "      <td>1</td>\n",
       "      <td>4</td>\n",
       "      <td>3</td>\n",
       "      <td>2</td>\n",
       "      <td>3</td>\n",
       "      <td>2</td>\n",
       "      <td>1</td>\n",
       "      <td>1</td>\n",
       "      <td>1</td>\n",
       "      <td>2</td>\n",
       "    </tr>\n",
       "    <tr>\n",
       "      <th>3</th>\n",
       "      <td>2</td>\n",
       "      <td>2</td>\n",
       "      <td>1</td>\n",
       "      <td>1</td>\n",
       "      <td>2</td>\n",
       "      <td>2</td>\n",
       "      <td>3</td>\n",
       "      <td>4</td>\n",
       "      <td>2</td>\n",
       "      <td>1</td>\n",
       "      <td>...</td>\n",
       "      <td>2</td>\n",
       "      <td>4</td>\n",
       "      <td>1</td>\n",
       "      <td>3</td>\n",
       "      <td>3</td>\n",
       "      <td>1</td>\n",
       "      <td>1</td>\n",
       "      <td>1</td>\n",
       "      <td>2</td>\n",
       "      <td>1</td>\n",
       "    </tr>\n",
       "    <tr>\n",
       "      <th>4</th>\n",
       "      <td>2</td>\n",
       "      <td>2</td>\n",
       "      <td>1</td>\n",
       "      <td>1</td>\n",
       "      <td>2</td>\n",
       "      <td>2</td>\n",
       "      <td>1</td>\n",
       "      <td>4</td>\n",
       "      <td>2</td>\n",
       "      <td>1</td>\n",
       "      <td>...</td>\n",
       "      <td>3</td>\n",
       "      <td>3</td>\n",
       "      <td>4</td>\n",
       "      <td>3</td>\n",
       "      <td>2</td>\n",
       "      <td>2</td>\n",
       "      <td>1</td>\n",
       "      <td>2</td>\n",
       "      <td>2</td>\n",
       "      <td>2</td>\n",
       "    </tr>\n",
       "  </tbody>\n",
       "</table>\n",
       "<p>5 rows × 50 columns</p>\n",
       "</div>"
      ],
      "text/plain": [
       "   N1  N2  N3  N4  N48  N6  N7  N14  N15  N17 ...   N20  N22  N23  N30  N38  \\\n",
       "0   2   1   1   1    1   2   2    1    1    4 ...     2    1    1    2    1   \n",
       "1   3   2   2   1    2   3   3    1    1    1 ...     2    2    2    1    1   \n",
       "2   2   2   1   1    2   3   1    1    2    4 ...     1    4    3    2    3   \n",
       "3   2   2   1   1    2   2   3    4    2    1 ...     2    4    1    3    3   \n",
       "4   2   2   1   1    2   2   1    4    2    1 ...     3    3    4    3    2   \n",
       "\n",
       "   N26  N28  N50  N25  N35  \n",
       "0    2    3    1    1    2  \n",
       "1    2    2    2    3    1  \n",
       "2    2    1    1    1    2  \n",
       "3    1    1    1    2    1  \n",
       "4    2    1    2    2    2  \n",
       "\n",
       "[5 rows x 50 columns]"
      ]
     },
     "execution_count": 42,
     "metadata": {},
     "output_type": "execute_result"
    }
   ],
   "source": [
    "dataset = \"large\"\n",
    "datadir = \"data/\"\n",
    "df = pandas.read_csv(datadir + dataset+\".csv\")\n",
    "df[:5]"
   ]
  },
  {
   "cell_type": "code",
   "execution_count": 43,
   "metadata": {},
   "outputs": [
    {
     "name": "stdout",
     "output_type": "stream",
     "text": [
      "[('N1', (1, 3)), ('N2', (1, 2)), ('N3', (1, 2)), ('N4', (1, 2)), ('N48', (1, 2)), ('N6', (1, 4)), ('N7', (1, 3)), ('N14', (1, 4)), ('N15', (1, 2)), ('N17', (1, 4)), ('N49', (1, 3)), ('N33', (1, 2)), ('N10', (1, 4)), ('N34', (1, 4)), ('N11', (1, 4)), ('N16', (1, 3)), ('N27', (1, 4)), ('N19', (1, 4)), ('N31', (1, 3)), ('N32', (1, 4)), ('N40', (1, 4)), ('N5', (1, 3)), ('N12', (1, 2)), ('N41', (1, 2)), ('N47', (1, 3)), ('N8', (1, 2)), ('N9', (1, 3)), ('N13', (1, 3)), ('N24', (1, 4)), ('N21', (1, 3)), ('N37', (1, 4)), ('N44', (1, 2)), ('N45', (1, 2)), ('N39', (1, 3)), ('N18', (1, 4)), ('N46', (1, 2)), ('N29', (1, 4)), ('N36', (1, 3)), ('N43', (1, 3)), ('N42', (1, 2)), ('N20', (1, 3)), ('N22', (1, 4)), ('N23', (1, 4)), ('N30', (1, 3)), ('N38', (1, 4)), ('N26', (1, 3)), ('N28', (1, 3)), ('N50', (1, 2)), ('N25', (1, 3)), ('N35', (1, 4))]\n",
      "50\n"
     ]
    }
   ],
   "source": [
    "column_names = list(df.columns)\n",
    "data = np.array(df)\n",
    "node_info = [(column_names[i], (np.min(data[:,i]), np.max(data[:,i]))) for i in range(data.shape[1])]\n",
    "print(node_info)\n",
    "print(len(node_info))"
   ]
  },
  {
   "cell_type": "markdown",
   "metadata": {},
   "source": [
    "## BayesNet Datastructure"
   ]
  },
  {
   "cell_type": "code",
   "execution_count": 44,
   "metadata": {},
   "outputs": [],
   "source": [
    "class BayesNet:\n",
    "    \n",
    "    def __init__(self, graph, node_info, adjacency_matrix=None):\n",
    "        if adjacency_matrix is not None:\n",
    "            self.adjacency_matrix = adjacency_matrix\n",
    "            self.G = nx.convert_matrix.from_numpy_array(self.adjacency_matrix, create_using=nx.DiGraph())\n",
    "        else:\n",
    "            self.G = graph\n",
    "        \n",
    "        if self.is_dag:\n",
    "            self.node_info = node_info\n",
    "            self.node_names = [info[0] for info in self.node_info]\n",
    "            self.n_nodes = len(self.node_info)\n",
    "\n",
    "            self.vals_per_node = [vals[1] for name, vals in node_info]\n",
    "            self.node_values = [np.arange(vals[0], vals[1] + 1) for name, vals in node_info]\n",
    "            self.parent_sets = [list(self.G.predecessors(i)) for i in self.G.nodes]\n",
    "\n",
    "            n_parental_instances = [np.prod([self.vals_per_node[p] for p in parents]) for parents in self.parent_sets]\n",
    "            m_matrices = [np.zeros((int(npis), int(vals))) for npis, vals in zip(n_parental_instances, self.vals_per_node)]\n",
    "\n",
    "            self.ms = m_matrices\n",
    "    \n",
    "    def count_ms(self, data):\n",
    "        for i in range(self.n_nodes):\n",
    "            parents = self.parent_sets[i]\n",
    "            n_parents = len(parents)\n",
    "            if n_parents > 0:\n",
    "                parental_instantiations = itertools.product(*[self.node_values[p] for p in parents])\n",
    "                for j, pi in enumerate(parental_instantiations):\n",
    "                    mask = data[:,parents[0]] == pi[0]\n",
    "                    for k in range(1,n_parents):\n",
    "                        mask = np.logical_and(mask, data[:,parents[k]] == pi[k])\n",
    "                    pi_data = data[mask,i]\n",
    "                    vals, counts = np.unique(pi_data, return_counts=True)\n",
    "                    self.update_counts(i, j, vals, counts)\n",
    "            else:\n",
    "                vals, counts = np.unique(data[:,i], return_counts=True)\n",
    "                self.update_counts(i, 0, vals, counts)\n",
    "    \n",
    "    def update_counts(self, node, pi, vals, counts):\n",
    "        for v, c in zip(vals, counts):\n",
    "            self.ms[node][pi, v - 1] += c\n",
    "    \n",
    "    @property\n",
    "    def is_dag(self):\n",
    "        return nx.is_directed_acyclic_graph(self.G)\n",
    "    \n",
    "    def draw(self, k=None):\n",
    "        nx.draw(self.G, labels={i:info[0] for i, info in enumerate(self.node_info)}, k=k)\n",
    "        \n",
    "    def save(self, filename):\n",
    "        with open(filename, 'w') as f:\n",
    "            for edge in self.G.edges():\n",
    "                f.write(\"{}, {}\\n\".format(self.node_names[edge[0]], self.node_names[edge[1]]))\n",
    "        "
   ]
  },
  {
   "cell_type": "code",
   "execution_count": 45,
   "metadata": {},
   "outputs": [],
   "source": [
    "def get_dag(p):\n",
    "    no_dag = True\n",
    "    while no_dag:    \n",
    "        A = np.random.binomial(1, p, size=[len(node_info)] * 2)\n",
    "        np.fill_diagonal(A, 0)\n",
    "        g = BayesNet(None, node_info, adjacency_matrix=A)\n",
    "        no_dag = not g.is_dag\n",
    "    return g"
   ]
  },
  {
   "cell_type": "code",
   "execution_count": 47,
   "metadata": {},
   "outputs": [
    {
     "name": "stderr",
     "output_type": "stream",
     "text": [
      "\n",
      "\n",
      "  0%|                                                                                           | 0/20 [00:00<?, ?it/s]\n",
      "\n",
      "\n",
      " 15%|████████████▍                                                                      | 3/20 [00:00<00:01, 15.26it/s]\n",
      "\n",
      " 50%|█████████████████████████████████████████                                         | 10/20 [00:00<00:00, 32.81it/s]\n",
      "\n",
      " 85%|█████████████████████████████████████████████████████████████████████▋            | 17/20 [00:00<00:00, 39.68it/s]\n",
      "\n",
      "100%|██████████████████████████████████████████████████████████████████████████████████| 20/20 [00:00<00:00, 37.58it/s]"
     ]
    },
    {
     "data": {
      "image/png": "[encoded data removed]",
      "text/plain": [
       "<matplotlib.figure.Figure at 0x2d9e187f0f0>"
      ]
     },
     "metadata": {},
     "output_type": "display_data"
    }
   ],
   "source": [
    "n_dags = 20\n",
    "p = 0.03\n",
    "dags = [get_dag(p) for _ in tqdm.tqdm(range(n_dags))]\n",
    "g = dags[0]\n",
    "plt.figure(figsize=(10,10))\n",
    "g.draw(k=100)"
   ]
  },
  {
   "cell_type": "code",
   "execution_count": 48,
   "metadata": {},
   "outputs": [],
   "source": [
    "for g in dags:\n",
    "    g.count_ms(data)"
   ]
  },
  {
   "cell_type": "code",
   "execution_count": 49,
   "metadata": {},
   "outputs": [
    {
     "data": {
      "text/plain": [
       "0.0"
      ]
     },
     "execution_count": 49,
     "metadata": {},
     "output_type": "execute_result"
    }
   ],
   "source": [
    "scipy.special.loggamma(1)"
   ]
  },
  {
   "cell_type": "markdown",
   "metadata": {},
   "source": [
    "## Compute Bayesian Score"
   ]
  },
  {
   "cell_type": "code",
   "execution_count": 50,
   "metadata": {},
   "outputs": [],
   "source": [
    "def bay_score_node(m):\n",
    "    p = np.sum(scipy.special.loggamma(m + 1))\n",
    "    p += m.shape[0] * scipy.special.loggamma(m.shape[1])\n",
    "    p -= np.sum(scipy.special.loggamma(m.shape[1] + np.sum(m, axis=1)))\n",
    "    return p\n",
    "    \n",
    "def compute_bayesian_score(g):\n",
    "    return np.sum([bay_score_node(m) for m in g.ms])"
   ]
  },
  {
   "cell_type": "code",
   "execution_count": 51,
   "metadata": {},
   "outputs": [],
   "source": [
    "scores = [compute_bayesian_score(g) for g in dags]"
   ]
  },
  {
   "cell_type": "code",
   "execution_count": 52,
   "metadata": {},
   "outputs": [],
   "source": [
    "gmin = dags[np.argmin(scores)]\n",
    "gmax = dags[np.argmax(scores)]"
   ]
  },
  {
   "cell_type": "code",
   "execution_count": 53,
   "metadata": {},
   "outputs": [
    {
     "data": {
      "image/png": "[encoded data removed]",
      "text/plain": [
       "<matplotlib.figure.Figure at 0x2d9df49e828>"
      ]
     },
     "metadata": {},
     "output_type": "display_data"
    }
   ],
   "source": [
    "gmin.draw()"
   ]
  },
  {
   "cell_type": "code",
   "execution_count": 54,
   "metadata": {},
   "outputs": [
    {
     "data": {
      "image/png": "[encoded data removed]",
      "text/plain": [
       "<matplotlib.figure.Figure at 0x2d9e1eba860>"
      ]
     },
     "metadata": {},
     "output_type": "display_data"
    }
   ],
   "source": [
    "gmax.draw()"
   ]
  },
  {
   "cell_type": "markdown",
   "metadata": {},
   "source": [
    "## Random Search"
   ]
  },
  {
   "cell_type": "code",
   "execution_count": 60,
   "metadata": {},
   "outputs": [],
   "source": [
    "hyperparams = {\"p_add\":.5, \"max_parents\":7}\n",
    "\n",
    "def num_parents(g, n):\n",
    "    parents = list(g.predecessors(n))\n",
    "    return len(parents)\n",
    "\n",
    "def generate_neighbor(g):\n",
    "    graph = copy.deepcopy(g.G)\n",
    "    add_edge = np.random.binomial(1,hyperparams[\"p_add\"])\n",
    "    modified = False\n",
    "    if add_edge or len(graph.edges) == 0:\n",
    "        edges = list(nx.non_edges(graph))\n",
    "        np.random.shuffle(edges)\n",
    "        for edge in edges:\n",
    "            if not nx.has_path(graph, edge[1], edge[0]) and num_parents(graph, edge[1]) < hyperparams[\"max_parents\"]:\n",
    "                graph.add_edge(*edge)\n",
    "                net = BayesNet(graph, node_info)\n",
    "                net.count_ms(data)\n",
    "                modified = True\n",
    "                break\n",
    "    if not add_edge or not modified:\n",
    "        edges = list(nx.edges(graph))\n",
    "        l = len(edges)\n",
    "        edge = edges[np.random.randint(l)]\n",
    "        graph.remove_edge(*edge)\n",
    "        net = BayesNet(graph, node_info)\n",
    "        net.count_ms(data)\n",
    "    return net"
   ]
  },
  {
   "cell_type": "code",
   "execution_count": 61,
   "metadata": {},
   "outputs": [],
   "source": [
    "def simulated_annealing(initial_candidate, T=1000, epochs=1):\n",
    "    best_solution = initial_candidate\n",
    "    best_solution_cost = compute_bayesian_score(initial_candidate)\n",
    "    \n",
    "    costs = [best_solution_cost]\n",
    "    # the best solution we had so far\n",
    "    \n",
    "    all_time_best_solution = initial_candidate\n",
    "    all_time_best_cost = best_solution_cost\n",
    "    \n",
    "    while (T > 0):\n",
    "        print(T)\n",
    "        for epoch in range(epochs):\n",
    "            candidate = generate_neighbor(best_solution)\n",
    "            candidate_cost = compute_bayesian_score(candidate)\n",
    "            cost_change = candidate_cost - best_solution_cost  # we want to accept higher cost\n",
    "            if (cost_change > 0):\n",
    "                # move to candidate state\n",
    "                best_solution = candidate\n",
    "                best_solution_cost = candidate_cost\n",
    "                costs.append(best_solution_cost)\n",
    "            elif (np.exp(cost_change / (T)) > np.random.uniform()):\n",
    "                # move to candidate state\n",
    "                best_solution = candidate\n",
    "                best_solution_cost = candidate_cost\n",
    "                costs.append(best_solution_cost)\n",
    "            if all_time_best_cost < candidate_cost:\n",
    "                all_time_best_solution = candidate\n",
    "                all_time_best_cost = candidate_cost\n",
    "        T -= 1\n",
    "    return all_time_best_solution, all_time_best_cost, costs\n"
   ]
  },
  {
   "cell_type": "markdown",
   "metadata": {},
   "source": [
    "## Run simulated annealing"
   ]
  },
  {
   "cell_type": "code",
   "execution_count": 62,
   "metadata": {},
   "outputs": [
    {
     "name": "stdout",
     "output_type": "stream",
     "text": [
      "1000\n",
      "999\n",
      "998\n",
      "997\n",
      "996\n",
      "995\n",
      "994\n",
      "993\n",
      "992\n",
      "991\n",
      "990\n",
      "989\n",
      "988\n",
      "987\n",
      "986\n",
      "985\n",
      "984\n",
      "983\n",
      "982\n",
      "981\n",
      "980\n",
      "979\n",
      "978\n",
      "977\n",
      "976\n",
      "975\n",
      "974\n",
      "973\n",
      "972\n",
      "971\n",
      "970\n",
      "969\n",
      "968\n",
      "967\n",
      "966\n",
      "965\n",
      "964\n",
      "963\n",
      "962\n",
      "961\n",
      "960\n",
      "959\n",
      "958\n",
      "957\n",
      "956\n",
      "955\n",
      "954\n",
      "953\n",
      "952\n",
      "951\n",
      "950\n",
      "949\n",
      "948\n",
      "947\n",
      "946\n",
      "945\n",
      "944\n",
      "943\n",
      "942\n",
      "941\n",
      "940\n",
      "939\n",
      "938\n",
      "937\n",
      "936\n",
      "935\n",
      "934\n",
      "933\n",
      "932\n",
      "931\n",
      "930\n",
      "929\n",
      "928\n",
      "927\n",
      "926\n",
      "925\n",
      "924\n",
      "923\n",
      "922\n",
      "921\n",
      "920\n",
      "919\n",
      "918\n",
      "917\n",
      "916\n",
      "915\n",
      "914\n",
      "913\n",
      "912\n",
      "911\n",
      "910\n",
      "909\n",
      "908\n",
      "907\n",
      "906\n",
      "905\n",
      "904\n",
      "903\n",
      "902\n",
      "901\n",
      "900\n",
      "899\n",
      "898\n",
      "897\n",
      "896\n",
      "895\n",
      "894\n",
      "893\n",
      "892\n",
      "891\n",
      "890\n",
      "889\n",
      "888\n",
      "887\n",
      "886\n",
      "885\n",
      "884\n",
      "883\n",
      "882\n",
      "881\n",
      "880\n",
      "879\n",
      "878\n",
      "877\n",
      "876\n",
      "875\n",
      "874\n",
      "873\n",
      "872\n",
      "871\n",
      "870\n",
      "869\n",
      "868\n",
      "867\n",
      "866\n",
      "865\n",
      "864\n",
      "863\n",
      "862\n",
      "861\n",
      "860\n",
      "859\n",
      "858\n",
      "857\n",
      "856\n",
      "855\n",
      "854\n",
      "853\n",
      "852\n",
      "851\n",
      "850\n",
      "849\n",
      "848\n",
      "847\n",
      "846\n",
      "845\n",
      "844\n",
      "843\n",
      "842\n",
      "841\n",
      "840\n",
      "839\n",
      "838\n",
      "837\n",
      "836\n",
      "835\n",
      "834\n",
      "833\n",
      "832\n",
      "831\n",
      "830\n",
      "829\n",
      "828\n",
      "827\n",
      "826\n",
      "825\n",
      "824\n",
      "823\n",
      "822\n",
      "821\n",
      "820\n",
      "819\n",
      "818\n",
      "817\n",
      "816\n",
      "815\n",
      "814\n",
      "813\n",
      "812\n",
      "811\n",
      "810\n",
      "809\n",
      "808\n",
      "807\n",
      "806\n",
      "805\n",
      "804\n",
      "803\n",
      "802\n",
      "801\n",
      "800\n",
      "799\n",
      "798\n",
      "797\n",
      "796\n",
      "795\n",
      "794\n",
      "793\n",
      "792\n",
      "791\n",
      "790\n",
      "789\n",
      "788\n",
      "787\n",
      "786\n",
      "785\n",
      "784\n",
      "783\n",
      "782\n",
      "781\n",
      "780\n",
      "779\n",
      "778\n",
      "777\n",
      "776\n",
      "775\n",
      "774\n",
      "773\n",
      "772\n",
      "771\n",
      "770\n",
      "769\n",
      "768\n",
      "767\n",
      "766\n",
      "765\n",
      "764\n",
      "763\n",
      "762\n",
      "761\n",
      "760\n",
      "759\n",
      "758\n",
      "757\n",
      "756\n",
      "755\n",
      "754\n",
      "753\n",
      "752\n",
      "751\n",
      "750\n",
      "749\n",
      "748\n",
      "747\n",
      "746\n",
      "745\n",
      "744\n",
      "743\n",
      "742\n",
      "741\n",
      "740\n",
      "739\n",
      "738\n",
      "737\n",
      "736\n",
      "735\n",
      "734\n",
      "733\n",
      "732\n",
      "731\n",
      "730\n",
      "729\n",
      "728\n",
      "727\n",
      "726\n",
      "725\n",
      "724\n",
      "723\n",
      "722\n",
      "721\n",
      "720\n",
      "719\n",
      "718\n",
      "717\n",
      "716\n",
      "715\n",
      "714\n",
      "713\n",
      "712\n",
      "711\n",
      "710\n",
      "709\n",
      "708\n",
      "707\n",
      "706\n",
      "705\n",
      "704\n",
      "703\n",
      "702\n",
      "701\n",
      "700\n",
      "699\n",
      "698\n",
      "697\n",
      "696\n",
      "695\n",
      "694\n",
      "693\n",
      "692\n",
      "691\n",
      "690\n",
      "689\n",
      "688\n",
      "687\n",
      "686\n",
      "685\n",
      "684\n",
      "683\n",
      "682\n",
      "681\n",
      "680\n",
      "679\n",
      "678\n",
      "677\n",
      "676\n",
      "675\n",
      "674\n",
      "673\n",
      "672\n",
      "671\n",
      "670\n",
      "669\n",
      "668\n",
      "667\n",
      "666\n",
      "665\n",
      "664\n",
      "663\n",
      "662\n",
      "661\n",
      "660\n",
      "659\n",
      "658\n",
      "657\n",
      "656\n",
      "655\n",
      "654\n",
      "653\n",
      "652\n",
      "651\n",
      "650\n",
      "649\n",
      "648\n",
      "647\n",
      "646\n",
      "645\n",
      "644\n",
      "643\n",
      "642\n",
      "641\n",
      "640\n",
      "639\n",
      "638\n",
      "637\n",
      "636\n",
      "635\n",
      "634\n",
      "633\n",
      "632\n",
      "631\n",
      "630\n",
      "629\n",
      "628\n",
      "627\n",
      "626\n",
      "625\n",
      "624\n",
      "623\n",
      "622\n",
      "621\n",
      "620\n",
      "619\n",
      "618\n",
      "617\n",
      "616\n",
      "615\n",
      "614\n",
      "613\n",
      "612\n",
      "611\n",
      "610\n",
      "609\n",
      "608\n",
      "607\n",
      "606\n",
      "605\n",
      "604\n",
      "603\n",
      "602\n",
      "601\n",
      "600\n",
      "599\n",
      "598\n",
      "597\n",
      "596\n",
      "595\n",
      "594\n",
      "593\n",
      "592\n",
      "591\n",
      "590\n",
      "589\n",
      "588\n",
      "587\n",
      "586\n",
      "585\n",
      "584\n",
      "583\n",
      "582\n",
      "581\n",
      "580\n",
      "579\n",
      "578\n",
      "577\n",
      "576\n",
      "575\n",
      "574\n",
      "573\n",
      "572\n",
      "571\n",
      "570\n",
      "569\n",
      "568\n",
      "567\n",
      "566\n",
      "565\n",
      "564\n",
      "563\n",
      "562\n",
      "561\n",
      "560\n",
      "559\n",
      "558\n",
      "557\n",
      "556\n",
      "555\n",
      "554\n",
      "553\n",
      "552\n",
      "551\n",
      "550\n",
      "549\n",
      "548\n",
      "547\n",
      "546\n",
      "545\n",
      "544\n",
      "543\n",
      "542\n",
      "541\n",
      "540\n",
      "539\n",
      "538\n",
      "537\n",
      "536\n",
      "535\n",
      "534\n",
      "533\n",
      "532\n",
      "531\n",
      "530\n",
      "529\n",
      "528\n",
      "527\n",
      "526\n",
      "525\n",
      "524\n",
      "523\n",
      "522\n",
      "521\n",
      "520\n",
      "519\n",
      "518\n",
      "517\n",
      "516\n",
      "515\n",
      "514\n",
      "513\n",
      "512\n",
      "511\n",
      "510\n",
      "509\n",
      "508\n",
      "507\n",
      "506\n",
      "505\n",
      "504\n",
      "503\n",
      "502\n",
      "501\n",
      "500\n",
      "499\n",
      "498\n",
      "497\n",
      "496\n",
      "495\n",
      "494\n",
      "493\n",
      "492\n",
      "491\n",
      "490\n",
      "489\n",
      "488\n",
      "487\n",
      "486\n",
      "485\n",
      "484\n",
      "483\n",
      "482\n",
      "481\n",
      "480\n",
      "479\n",
      "478\n",
      "477\n",
      "476\n",
      "475\n",
      "474\n",
      "473\n",
      "472\n",
      "471\n",
      "470\n",
      "469\n",
      "468\n",
      "467\n",
      "466\n",
      "465\n",
      "464\n",
      "463\n",
      "462\n",
      "461\n",
      "460\n",
      "459\n",
      "458\n",
      "457\n",
      "456\n",
      "455\n",
      "454\n",
      "453\n",
      "452\n",
      "451\n",
      "450\n",
      "449\n",
      "448\n",
      "447\n",
      "446\n",
      "445\n",
      "444\n",
      "443\n",
      "442\n",
      "441\n",
      "440\n",
      "439\n",
      "438\n",
      "437\n",
      "436\n",
      "435\n",
      "434\n",
      "433\n",
      "432\n",
      "431\n",
      "430\n",
      "429\n",
      "428\n",
      "427\n",
      "426\n",
      "425\n",
      "424\n",
      "423\n",
      "422\n",
      "421\n",
      "420\n",
      "419\n",
      "418\n",
      "417\n",
      "416\n",
      "415\n",
      "414\n",
      "413\n",
      "412\n",
      "411\n",
      "410\n",
      "409\n",
      "408\n",
      "407\n",
      "406\n",
      "405\n",
      "404\n",
      "403\n",
      "402\n",
      "401\n",
      "400\n",
      "399\n",
      "398\n",
      "397\n",
      "396\n",
      "395\n",
      "394\n",
      "393\n",
      "392\n",
      "391\n",
      "390\n",
      "389\n",
      "388\n",
      "387\n",
      "386\n",
      "385\n",
      "384\n",
      "383\n",
      "382\n",
      "381\n",
      "380\n",
      "379\n",
      "378\n",
      "377\n",
      "376\n",
      "375\n",
      "374\n",
      "373\n",
      "372\n",
      "371\n",
      "370\n",
      "369\n",
      "368\n",
      "367\n",
      "366\n",
      "365\n",
      "364\n",
      "363\n",
      "362\n",
      "361\n",
      "360\n",
      "359\n",
      "358\n",
      "357\n",
      "356\n",
      "355\n",
      "354\n",
      "353\n",
      "352\n",
      "351\n",
      "350\n",
      "349\n",
      "348\n",
      "347\n",
      "346\n",
      "345\n",
      "344\n",
      "343\n",
      "342\n",
      "341\n",
      "340\n",
      "339\n",
      "338\n",
      "337\n",
      "336\n",
      "335\n",
      "334\n",
      "333\n",
      "332\n",
      "331\n",
      "330\n",
      "329\n",
      "328\n",
      "327\n",
      "326\n",
      "325\n",
      "324\n",
      "323\n",
      "322\n",
      "321\n",
      "320\n",
      "319\n",
      "318\n",
      "317\n",
      "316\n",
      "315\n",
      "314\n",
      "313\n",
      "312\n",
      "311\n",
      "310\n",
      "309\n",
      "308\n",
      "307\n",
      "306\n",
      "305\n",
      "304\n",
      "303\n",
      "302\n",
      "301\n",
      "300\n",
      "299\n",
      "298\n",
      "297\n",
      "296\n",
      "295\n",
      "294\n",
      "293\n",
      "292\n",
      "291\n",
      "290\n",
      "289\n",
      "288\n",
      "287\n",
      "286\n",
      "285\n",
      "284\n",
      "283\n",
      "282\n",
      "281\n",
      "280\n",
      "279\n",
      "278\n",
      "277\n",
      "276\n",
      "275\n",
      "274\n",
      "273\n",
      "272\n",
      "271\n",
      "270\n",
      "269\n",
      "268\n",
      "267\n",
      "266\n",
      "265\n",
      "264\n",
      "263\n",
      "262\n",
      "261\n",
      "260\n",
      "259\n",
      "258\n",
      "257\n",
      "256\n",
      "255\n",
      "254\n",
      "253\n",
      "252\n",
      "251\n",
      "250\n",
      "249\n",
      "248\n",
      "247\n",
      "246\n",
      "245\n",
      "244\n",
      "243\n",
      "242\n",
      "241\n",
      "240\n",
      "239\n",
      "238\n",
      "237\n",
      "236\n",
      "235\n",
      "234\n",
      "233\n",
      "232\n",
      "231\n",
      "230\n",
      "229\n",
      "228\n",
      "227\n",
      "226\n",
      "225\n",
      "224\n",
      "223\n",
      "222\n",
      "221\n",
      "220\n",
      "219\n",
      "218\n",
      "217\n",
      "216\n",
      "215\n",
      "214\n",
      "213\n",
      "212\n",
      "211\n",
      "210\n",
      "209\n",
      "208\n",
      "207\n",
      "206\n",
      "205\n",
      "204\n",
      "203\n",
      "202\n",
      "201\n",
      "200\n",
      "199\n",
      "198\n",
      "197\n",
      "196\n",
      "195\n",
      "194\n",
      "193\n",
      "192\n",
      "191\n",
      "190\n",
      "189\n",
      "188\n",
      "187\n",
      "186\n",
      "185\n",
      "184\n",
      "183\n",
      "182\n",
      "181\n",
      "180\n",
      "179\n",
      "178\n",
      "177\n",
      "176\n",
      "175\n",
      "174\n",
      "173\n",
      "172\n",
      "171\n",
      "170\n",
      "169\n",
      "168\n",
      "167\n",
      "166\n",
      "165\n",
      "164\n",
      "163\n",
      "162\n",
      "161\n",
      "160\n",
      "159\n",
      "158\n",
      "157\n",
      "156\n",
      "155\n",
      "154\n",
      "153\n",
      "152\n",
      "151\n",
      "150\n",
      "149\n",
      "148\n",
      "147\n",
      "146\n",
      "145\n",
      "144\n",
      "143\n",
      "142\n",
      "141\n",
      "140\n",
      "139\n",
      "138\n",
      "137\n",
      "136\n",
      "135\n",
      "134\n",
      "133\n",
      "132\n",
      "131\n",
      "130\n",
      "129\n",
      "128\n",
      "127\n",
      "126\n",
      "125\n",
      "124\n",
      "123\n",
      "122\n",
      "121\n",
      "120\n",
      "119\n",
      "118\n",
      "117\n",
      "116\n",
      "115\n",
      "114\n",
      "113\n",
      "112\n",
      "111\n",
      "110\n",
      "109\n",
      "108\n",
      "107\n",
      "106\n",
      "105\n",
      "104\n",
      "103\n",
      "102\n",
      "101\n",
      "100\n",
      "99\n",
      "98\n",
      "97\n",
      "96\n",
      "95\n",
      "94\n",
      "93\n",
      "92\n",
      "91\n",
      "90\n",
      "89\n",
      "88\n",
      "87\n",
      "86\n",
      "85\n",
      "84\n",
      "83\n",
      "82\n",
      "81\n",
      "80\n",
      "79\n",
      "78\n",
      "77\n",
      "76\n",
      "75\n",
      "74\n",
      "73\n",
      "72\n",
      "71\n",
      "70\n",
      "69\n",
      "68\n",
      "67\n",
      "66\n",
      "65\n",
      "64\n",
      "63\n",
      "62\n",
      "61\n",
      "60\n",
      "59\n",
      "58\n",
      "57\n",
      "56\n",
      "55\n",
      "54\n",
      "53\n",
      "52\n",
      "51\n",
      "50\n",
      "49\n",
      "48\n",
      "47\n",
      "46\n",
      "45\n",
      "44\n",
      "43\n",
      "42\n",
      "41\n",
      "40\n",
      "39\n",
      "38\n",
      "37\n",
      "36\n",
      "35\n",
      "34\n",
      "33\n",
      "32\n",
      "31\n",
      "30\n",
      "29\n",
      "28\n",
      "27\n",
      "26\n",
      "25\n",
      "24\n",
      "23\n",
      "22\n",
      "21\n",
      "20\n",
      "19\n",
      "18\n",
      "17\n",
      "16\n",
      "15\n",
      "14\n",
      "13\n",
      "12\n",
      "11\n",
      "10\n",
      "9\n",
      "8\n",
      "7\n",
      "6\n",
      "5\n",
      "4\n",
      "3\n",
      "2\n",
      "1\n",
      "0:03:54.868151\n"
     ]
    }
   ],
   "source": [
    "t0 = datetime.datetime.now()\n",
    "best_solution, best_cost, costs = simulated_annealing(gmax, T=1000, epochs=2)\n",
    "print(datetime.datetime.now() - t0)"
   ]
  },
  {
   "cell_type": "code",
   "execution_count": 63,
   "metadata": {},
   "outputs": [
    {
     "name": "stdout",
     "output_type": "stream",
     "text": [
      "-482542.5843598574\n"
     ]
    },
    {
     "data": {
      "image/png": "[encoded data removed]",
      "text/plain": [
       "<matplotlib.figure.Figure at 0x2d9df3040b8>"
      ]
     },
     "metadata": {},
     "output_type": "display_data"
    }
   ],
   "source": [
    "plt.plot(costs)\n",
    "print(best_cost)"
   ]
  },
  {
   "cell_type": "code",
   "execution_count": 24,
   "metadata": {},
   "outputs": [
    {
     "name": "stdout",
     "output_type": "stream",
     "text": [
      "True\n"
     ]
    },
    {
     "data": {
      "text/plain": [
       "-3854.395569359951"
      ]
     },
     "execution_count": 24,
     "metadata": {},
     "output_type": "execute_result"
    },
    {
     "data": {
      "image/png": "[encoded data removed]",
      "text/plain": [
       "<matplotlib.figure.Figure at 0x2d9e19ae4a8>"
      ]
     },
     "metadata": {},
     "output_type": "display_data"
    }
   ],
   "source": [
    "best_solution.draw(k=200)\n",
    "print(best_solution.is_dag)\n",
    "compute_bayesian_score(best_solution)"
   ]
  },
  {
   "cell_type": "markdown",
   "metadata": {},
   "source": [
    "## Store results"
   ]
  },
  {
   "cell_type": "code",
   "execution_count": 293,
   "metadata": {},
   "outputs": [],
   "source": [
    "outdir = \"test_outputs5/\"\n",
    "best_solution.save(outdir + dataset + \".gph\")"
   ]
  },
  {
   "cell_type": "code",
   "execution_count": 308,
   "metadata": {},
   "outputs": [
    {
     "data": {
      "image/png": "[encoded data removed]",
      "text/plain": [
       "<matplotlib.figure.Figure at 0x20fce08ed30>"
      ]
     },
     "metadata": {},
     "output_type": "display_data"
    }
   ],
   "source": [
    "plt.figure(figsize=(10,10))\n",
    "best_solution.draw(k=5)\n",
    "plt.savefig(outdir + dataset + \".png\")"
   ]
  },
  {
   "cell_type": "code",
   "execution_count": 309,
   "metadata": {},
   "outputs": [
    {
     "data": {
      "image/png": "[encoded data removed]",
      "text/plain": [
       "<matplotlib.figure.Figure at 0x20fce596588>"
      ]
     },
     "metadata": {},
     "output_type": "display_data"
    }
   ],
   "source": [
    "plt.plot(costs)\n",
    "plt.xlabel(\"iteration\")\n",
    "plt.ylabel(\"Bayesian Score\")\n",
    "plt.title(\"Hill Climbing for \" + dataset + \" data\")\n",
    "plt.savefig(outdir + dataset + \"_cost.png\")"
   ]
  },
  {
   "cell_type": "code",
   "execution_count": null,
   "metadata": {},
   "outputs": [],
   "source": []
  },
  {
   "cell_type": "code",
   "execution_count": null,
   "metadata": {},
   "outputs": [],
   "source": []
  },
  {
   "cell_type": "code",
   "execution_count": null,
   "metadata": {},
   "outputs": [],
   "source": []
  },
  {
   "cell_type": "code",
   "execution_count": null,
   "metadata": {},
   "outputs": [],
   "source": []
  },
  {
   "cell_type": "code",
   "execution_count": null,
   "metadata": {},
   "outputs": [],
   "source": []
  },
  {
   "cell_type": "code",
   "execution_count": 64,
   "metadata": {},
   "outputs": [
    {
     "name": "stdout",
     "output_type": "stream",
     "text": [
      "[[3, 4, 7], [0, 7, 4, 2], [], [4, 2], [2], [2, 4, 7, 3, 6], [0, 2, 7, 3], [2, 4, 3]]\n",
      "\n",
      "[array([1, 2, 3], dtype=int64), array([1, 2, 3], dtype=int64), array([1, 2, 3], dtype=int64), array([1, 2, 3], dtype=int64), array([1, 2, 3], dtype=int64), array([1, 2], dtype=int64), array([1, 2, 3], dtype=int64), array([1, 2], dtype=int64)]\n"
     ]
    }
   ],
   "source": [
    "print(best_solution.parent_sets)\n",
    "print(\"\")\n",
    "print(best_solution.node_values)"
   ]
  },
  {
   "cell_type": "code",
   "execution_count": 37,
   "metadata": {},
   "outputs": [],
   "source": [
    "node = 1\n",
    "best_solution.ms[1].shape\n",
    "pis = itertools.product(best_solution.node_values[0], best_solution.node_values[6])\n",
    "m = np.zeros((9,3))\n",
    "for j,pi in enumerate(pis):\n",
    "    for d in data:\n",
    "        if d[0] == pi[0] and d[6] == pi[1]:\n",
    "            m[j, d[1] - 1] += 1"
   ]
  },
  {
   "cell_type": "code",
   "execution_count": 41,
   "metadata": {},
   "outputs": [
    {
     "data": {
      "text/plain": [
       "889.0"
      ]
     },
     "execution_count": 41,
     "metadata": {},
     "output_type": "execute_result"
    }
   ],
   "source": [
    "np.sum(m)"
   ]
  },
  {
   "cell_type": "code",
   "execution_count": 40,
   "metadata": {},
   "outputs": [
    {
     "data": {
      "text/plain": [
       "889.0"
      ]
     },
     "execution_count": 40,
     "metadata": {},
     "output_type": "execute_result"
    }
   ],
   "source": [
    "np.sum(best_solution.ms[1])"
   ]
  },
  {
   "cell_type": "code",
   "execution_count": 165,
   "metadata": {},
   "outputs": [
    {
     "data": {
      "text/plain": [
       "0.01831563888873418"
      ]
     },
     "execution_count": 165,
     "metadata": {},
     "output_type": "execute_result"
    }
   ],
   "source": [
    "np.exp(-4/1)"
   ]
  },
  {
   "cell_type": "code",
   "execution_count": null,
   "metadata": {},
   "outputs": [],
   "source": []
  },
  {
   "cell_type": "code",
   "execution_count": null,
   "metadata": {},
   "outputs": [],
   "source": []
  },
  {
   "cell_type": "code",
   "execution_count": null,
   "metadata": {},
   "outputs": [],
   "source": []
  },
  {
   "cell_type": "code",
   "execution_count": null,
   "metadata": {},
   "outputs": [],
   "source": []
  },
  {
   "cell_type": "code",
   "execution_count": null,
   "metadata": {},
   "outputs": [],
   "source": []
  },
  {
   "cell_type": "code",
   "execution_count": null,
   "metadata": {},
   "outputs": [],
   "source": []
  },
  {
   "cell_type": "code",
   "execution_count": null,
   "metadata": {},
   "outputs": [],
   "source": [
    "G = nx.DiGraph()\n",
    "G.add_edge(1,2)\n",
    "G.add_edge(3,4)\n",
    "G.add_edge(4,1)\n",
    "nx.draw(G, labels={i+1:str(i + 1) for i in range(4)})"
   ]
  },
  {
   "cell_type": "code",
   "execution_count": 46,
   "metadata": {},
   "outputs": [],
   "source": [
    "A = nx.to_numpy_array(G)"
   ]
  },
  {
   "cell_type": "code",
   "execution_count": 68,
   "metadata": {},
   "outputs": [
    {
     "data": {
      "text/plain": [
       "[4]"
      ]
     },
     "execution_count": 68,
     "metadata": {},
     "output_type": "execute_result"
    }
   ],
   "source": [
    "parents = [G.predecessors(node) for node in G.nodes]\n"
   ]
  },
  {
   "cell_type": "code",
   "execution_count": 42,
   "metadata": {},
   "outputs": [],
   "source": [
    "X = np.zeros((3,3))\n",
    "X[1,0] = 1\n",
    "X[1,1] = 1\n",
    "X[1,2] = 1\n",
    "X[0,0] = 1\n",
    "X[0,1] = 1"
   ]
  },
  {
   "cell_type": "code",
   "execution_count": 44,
   "metadata": {},
   "outputs": [
    {
     "data": {
      "text/plain": [
       "array([0., 1.])"
      ]
     },
     "execution_count": 44,
     "metadata": {},
     "output_type": "execute_result"
    }
   ],
   "source": [
    "mask = np.logical_and(X[:,0] == 1, X[:,1] == 1)\n",
    "X[mask,-1]"
   ]
  },
  {
   "cell_type": "code",
   "execution_count": 38,
   "metadata": {},
   "outputs": [
    {
     "ename": "IndexError",
     "evalue": "boolean index did not match indexed array along dimension 0; dimension is 8 but corresponding boolean dimension is 3",
     "output_type": "error",
     "traceback": [
      "\u001b[1;31m---------------------------------------------------------------------------\u001b[0m",
      "\u001b[1;31mIndexError\u001b[0m                                Traceback (most recent call last)",
      "\u001b[1;32m<ipython-input-38-6769e58b5baa>\u001b[0m in \u001b[0;36m<module>\u001b[1;34m()\u001b[0m\n\u001b[1;32m----> 1\u001b[1;33m \u001b[0mA\u001b[0m\u001b[1;33m[\u001b[0m\u001b[0mmask\u001b[0m\u001b[1;33m]\u001b[0m\u001b[1;33m\u001b[0m\u001b[0m\n\u001b[0m",
      "\u001b[1;31mIndexError\u001b[0m: boolean index did not match indexed array along dimension 0; dimension is 8 but corresponding boolean dimension is 3"
     ]
    }
   ],
   "source": [
    "A[mask]"
   ]
  },
  {
   "cell_type": "code",
   "execution_count": 49,
   "metadata": {},
   "outputs": [],
   "source": [
    "for j in itertools.product((), ()):\n",
    "    print(\"hi\")"
   ]
  },
  {
   "cell_type": "code",
   "execution_count": 51,
   "metadata": {},
   "outputs": [
    {
     "data": {
      "text/plain": [
       "(array([1, 2, 3, 4, 6, 7]), array([2, 1, 3, 1, 1, 1], dtype=int64))"
      ]
     },
     "execution_count": 51,
     "metadata": {},
     "output_type": "execute_result"
    }
   ],
   "source": [
    "a = np.array([1,1,2,3,4,6,7,3,3])\n",
    "np.unique(a, return_counts=True)"
   ]
  },
  {
   "cell_type": "code",
   "execution_count": 90,
   "metadata": {},
   "outputs": [
    {
     "data": {
      "text/plain": [
       "-4166.225858784904"
      ]
     },
     "execution_count": 90,
     "metadata": {},
     "output_type": "execute_result"
    }
   ],
   "source": [
    "A = np.zeros((8,8))\n",
    "# A[0,1] = 1\n",
    "# A[2,3] = 1\n",
    "# A[4,5] = 1\n",
    "g = BayesNet(A, node_info)\n",
    "g.count_ms(data)\n",
    "compute_bayesian_score(g.ms)"
   ]
  },
  {
   "cell_type": "code",
   "execution_count": 83,
   "metadata": {},
   "outputs": [
    {
     "data": {
      "text/plain": [
       "[array([[0., 0., 0.]]), array([[0., 0., 0.],\n",
       "        [0., 0., 0.],\n",
       "        [0., 0., 0.]]), array([[0., 0., 0.]]), array([[0., 0., 0.],\n",
       "        [0., 0., 0.],\n",
       "        [0., 0., 0.]]), array([[0., 0., 0.]]), array([[0., 0., 0.],\n",
       "        [0., 0., 0.],\n",
       "        [0., 0., 0.]])]"
      ]
     },
     "execution_count": 83,
     "metadata": {},
     "output_type": "execute_result"
    }
   ],
   "source": [
    "g.ms"
   ]
  },
  {
   "cell_type": "code",
   "execution_count": 84,
   "metadata": {},
   "outputs": [
    {
     "data": {
      "text/plain": [
       "[[], [0], [], [2], [], [4]]"
      ]
     },
     "execution_count": 84,
     "metadata": {},
     "output_type": "execute_result"
    }
   ],
   "source": [
    "g.parent_sets"
   ]
  },
  {
   "cell_type": "code",
   "execution_count": 92,
   "metadata": {},
   "outputs": [
    {
     "data": {
      "text/plain": [
       "array([[0., 0., 0., 0., 0., 0., 0., 0.],\n",
       "       [0., 0., 0., 0., 0., 0., 0., 0.],\n",
       "       [0., 0., 0., 0., 0., 0., 0., 0.],\n",
       "       [0., 0., 0., 0., 0., 0., 0., 0.],\n",
       "       [0., 0., 0., 0., 0., 0., 0., 0.],\n",
       "       [0., 0., 0., 0., 0., 0., 0., 0.],\n",
       "       [0., 0., 0., 0., 0., 0., 0., 0.],\n",
       "       [0., 0., 0., 0., 0., 0., 0., 0.]])"
      ]
     },
     "execution_count": 92,
     "metadata": {},
     "output_type": "execute_result"
    }
   ],
   "source": [
    "nx.convert_matrix.to_numpy_array(g.G)"
   ]
  },
  {
   "cell_type": "code",
   "execution_count": 30,
   "metadata": {},
   "outputs": [],
   "source": [
    "np.random.shuffle(list(g.G.edges))"
   ]
  },
  {
   "cell_type": "code",
   "execution_count": 28,
   "metadata": {},
   "outputs": [
    {
     "data": {
      "text/plain": [
       "OutEdgeView([(0, 1), (0, 2), (0, 7), (1, 3), (3, 5), (3, 6), (4, 2), (4, 7), (5, 2), (6, 5), (7, 6)])"
      ]
     },
     "execution_count": 28,
     "metadata": {},
     "output_type": "execute_result"
    }
   ],
   "source": []
  },
  {
   "cell_type": "code",
   "execution_count": 49,
   "metadata": {},
   "outputs": [
    {
     "data": {
      "text/plain": [
       "0.107"
      ]
     },
     "execution_count": 49,
     "metadata": {},
     "output_type": "execute_result"
    }
   ],
   "source": [
    "vals = np.random.binomial(1,.1, size = 1000)\n",
    "np.mean(vals)"
   ]
  },
  {
   "cell_type": "code",
   "execution_count": 82,
   "metadata": {},
   "outputs": [
    {
     "data": {
      "text/plain": [
       "OutEdgeView([(0, 4), (0, 7), (2, 3), (5, 4), (5, 6), (5, 7), (6, 1), (6, 2), (7, 1), (7, 2)])"
      ]
     },
     "execution_count": 82,
     "metadata": {},
     "output_type": "execute_result"
    }
   ],
   "source": [
    "gmax.G.edges"
   ]
  },
  {
   "cell_type": "code",
   "execution_count": null,
   "metadata": {},
   "outputs": [],
   "source": []
  }
 ],
 "metadata": {
  "kernelspec": {
   "display_name": "Python 3",
   "language": "python",
   "name": "python3"
  },
  "language_info": {
   "codemirror_mode": {
    "name": "ipython",
    "version": 3
   },
   "file_extension": ".py",
   "mimetype": "text/x-python",
   "name": "python",
   "nbconvert_exporter": "python",
   "pygments_lexer": "ipython3",
   "version": "3.6.4"
  }
 },
 "nbformat": 4,
 "nbformat_minor": 2
}
